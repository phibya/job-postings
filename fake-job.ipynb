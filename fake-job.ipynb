{
 "cells": [
  {
   "cell_type": "code",
   "execution_count": 1,
   "id": "initial_id",
   "metadata": {
    "ExecuteTime": {
     "end_time": "2025-05-24T21:17:08.639742Z",
     "start_time": "2025-05-24T21:17:08.186059Z"
    }
   },
   "outputs": [],
   "source": [
    "%%capture\n",
    "!pip install polars lets-plot pyarrow numpy"
   ]
  },
  {
   "cell_type": "code",
   "execution_count": 2,
   "id": "e1388ebb1d7fb559",
   "metadata": {
    "ExecuteTime": {
     "end_time": "2025-05-24T22:45:52.234373Z",
     "start_time": "2025-05-24T22:45:52.229892Z"
    }
   },
   "outputs": [
    {
     "data": {
      "text/html": [
       "\n",
       "            <div id=\"WfAu1A\"></div>\n",
       "            <script type=\"text/javascript\" data-lets-plot-script=\"library\">\n",
       "                if(!window.letsPlotCallQueue) {\n",
       "                    window.letsPlotCallQueue = [];\n",
       "                }; \n",
       "                window.letsPlotCall = function(f) {\n",
       "                    window.letsPlotCallQueue.push(f);\n",
       "                };\n",
       "                (function() {\n",
       "                    var script = document.createElement(\"script\");\n",
       "                    script.type = \"text/javascript\";\n",
       "                    script.src = \"https://cdn.jsdelivr.net/gh/JetBrains/lets-plot@v4.6.2/js-package/distr/lets-plot.min.js\";\n",
       "                    script.onload = function() {\n",
       "                        window.letsPlotCall = function(f) {f();};\n",
       "                        window.letsPlotCallQueue.forEach(function(f) {f();});\n",
       "                        window.letsPlotCallQueue = [];\n",
       "                        \n",
       "                    };\n",
       "                    script.onerror = function(event) {\n",
       "                        window.letsPlotCall = function(f) {};    // noop\n",
       "                        window.letsPlotCallQueue = [];\n",
       "                        var div = document.createElement(\"div\");\n",
       "                        div.style.color = 'darkred';\n",
       "                        div.textContent = 'Error loading Lets-Plot JS';\n",
       "                        document.getElementById(\"WfAu1A\").appendChild(div);\n",
       "                    };\n",
       "                    var e = document.getElementById(\"WfAu1A\");\n",
       "                    e.appendChild(script);\n",
       "                })()\n",
       "            </script>\n",
       "            "
      ]
     },
     "metadata": {},
     "output_type": "display_data"
    }
   ],
   "source": [
    "import polars as pl\n",
    "from lets_plot import *\n",
    "\n",
    "LetsPlot.setup_html()"
   ]
  },
  {
   "cell_type": "code",
   "execution_count": 3,
   "id": "6d53a28a433a91a0",
   "metadata": {
    "ExecuteTime": {
     "end_time": "2025-05-25T01:47:09.074746Z",
     "start_time": "2025-05-25T01:46:58.284940Z"
    }
   },
   "outputs": [
    {
     "name": "stdout",
     "output_type": "stream",
     "text": [
      "Data shape: (34430012, 5)\n"
     ]
    },
    {
     "data": {
      "text/html": [
       "<div><style>\n",
       ".dataframe > thead > tr,\n",
       ".dataframe > tbody > tr {\n",
       "  text-align: right;\n",
       "  white-space: pre-wrap;\n",
       "}\n",
       "</style>\n",
       "<small>shape: (5, 5)</small><table border=\"1\" class=\"dataframe\"><thead><tr><th>title</th><th>org_name</th><th>org_link</th><th>date_posted</th><th>date_valid</th></tr><tr><td>str</td><td>str</td><td>str</td><td>str</td><td>str</td></tr></thead><tbody><tr><td>&quot;AI Engineer - Machine Learning&quot;</td><td>&quot;Cynch AI&quot;</td><td>&quot;https://www.linkedin.com/compa…</td><td>&quot;2024-03-15T23:15:41.000Z&quot;</td><td>&quot;2024-10-22T10:29:32.000Z&quot;</td></tr><tr><td>&quot;Payments Business Analyst&quot;</td><td>&quot;Ztek Consulting&quot;</td><td>&quot;https://www.linkedin.com/compa…</td><td>&quot;2024-05-15T22:38:01.000Z&quot;</td><td>&quot;2024-06-14T22:38:01.000Z&quot;</td></tr><tr><td>&quot;HR | Payroll Coordinator (Part…</td><td>&quot;Weitzman&quot;</td><td>&quot;https://www.linkedin.com/compa…</td><td>&quot;2024-05-15T21:45:07.000Z&quot;</td><td>&quot;2024-11-11T21:45:07.000Z&quot;</td></tr><tr><td>&quot;Associate Recruiter Work from …</td><td>&quot;HCA Healthcare&quot;</td><td>&quot;https://www.linkedin.com/compa…</td><td>&quot;2024-05-03T22:04:02.000Z&quot;</td><td>&quot;2024-06-02T22:04:02.000Z&quot;</td></tr><tr><td>&quot;Office Manager&quot;</td><td>&quot;LGI Homes&quot;</td><td>&quot;https://www.linkedin.com/compa…</td><td>&quot;2024-05-22T17:14:46.000Z&quot;</td><td>&quot;2024-06-21T17:14:46.000Z&quot;</td></tr></tbody></table></div>"
      ],
      "text/plain": [
       "shape: (5, 5)\n",
       "┌────────────────────┬─────────────────┬───────────────────┬───────────────────┬───────────────────┐\n",
       "│ title              ┆ org_name        ┆ org_link          ┆ date_posted       ┆ date_valid        │\n",
       "│ ---                ┆ ---             ┆ ---               ┆ ---               ┆ ---               │\n",
       "│ str                ┆ str             ┆ str               ┆ str               ┆ str               │\n",
       "╞════════════════════╪═════════════════╪═══════════════════╪═══════════════════╪═══════════════════╡\n",
       "│ AI Engineer -      ┆ Cynch AI        ┆ https://www.linke ┆ 2024-03-15T23:15: ┆ 2024-10-22T10:29: │\n",
       "│ Machine Learning   ┆                 ┆ din.com/compa…    ┆ 41.000Z           ┆ 32.000Z           │\n",
       "│ Payments Business  ┆ Ztek Consulting ┆ https://www.linke ┆ 2024-05-15T22:38: ┆ 2024-06-14T22:38: │\n",
       "│ Analyst            ┆                 ┆ din.com/compa…    ┆ 01.000Z           ┆ 01.000Z           │\n",
       "│ HR | Payroll       ┆ Weitzman        ┆ https://www.linke ┆ 2024-05-15T21:45: ┆ 2024-11-11T21:45: │\n",
       "│ Coordinator (Part… ┆                 ┆ din.com/compa…    ┆ 07.000Z           ┆ 07.000Z           │\n",
       "│ Associate          ┆ HCA Healthcare  ┆ https://www.linke ┆ 2024-05-03T22:04: ┆ 2024-06-02T22:04: │\n",
       "│ Recruiter Work     ┆                 ┆ din.com/compa…    ┆ 02.000Z           ┆ 02.000Z           │\n",
       "│ from …             ┆                 ┆                   ┆                   ┆                   │\n",
       "│ Office Manager     ┆ LGI Homes       ┆ https://www.linke ┆ 2024-05-22T17:14: ┆ 2024-06-21T17:14: │\n",
       "│                    ┆                 ┆ din.com/compa…    ┆ 46.000Z           ┆ 46.000Z           │\n",
       "└────────────────────┴─────────────────┴───────────────────┴───────────────────┴───────────────────┘"
      ]
     },
     "execution_count": 3,
     "metadata": {},
     "output_type": "execute_result"
    }
   ],
   "source": [
    "data = pl.read_csv('data/jobs.csv')\n",
    "print('Data shape:', data.shape)\n",
    "data.head()"
   ]
  },
  {
   "cell_type": "code",
   "execution_count": 4,
   "id": "d6a9b4da1fb2a16",
   "metadata": {
    "ExecuteTime": {
     "end_time": "2025-05-25T01:47:21.495887Z",
     "start_time": "2025-05-25T01:47:16.202432Z"
    }
   },
   "outputs": [
    {
     "name": "stderr",
     "output_type": "stream",
     "text": [
      "/var/folders/5s/1m7ss4jd5f1_xnbhyngsvb9w0000gn/T/ipykernel_35854/2049601905.py:4: ChronoFormatWarning: Detected the pattern `.%f` in the chrono format string. This pattern should not be used to parse values after a decimal point. Use `%.f` instead. See the full specification: https://docs.rs/chrono/latest/chrono/format/strftime\n",
      "  date_posted=pl.col('date_posted').str.strptime(pl.Datetime, format=\"%Y-%m-%dT%H:%M:%S.%fZ\", strict=False, ambiguous='null').dt.date(),\n",
      "/var/folders/5s/1m7ss4jd5f1_xnbhyngsvb9w0000gn/T/ipykernel_35854/2049601905.py:5: ChronoFormatWarning: Detected the pattern `.%f` in the chrono format string. This pattern should not be used to parse values after a decimal point. Use `%.f` instead. See the full specification: https://docs.rs/chrono/latest/chrono/format/strftime\n",
      "  date_valid=pl.col('date_valid').str.strptime(pl.Datetime, format=\"%Y-%m-%dT%H:%M:%S.%fZ\", strict=False, ambiguous='null').dt.date(),\n"
     ]
    },
    {
     "name": "stdout",
     "output_type": "stream",
     "text": [
      "Data shape: (22026803, 5)\n"
     ]
    },
    {
     "data": {
      "text/html": [
       "<div><style>\n",
       ".dataframe > thead > tr,\n",
       ".dataframe > tbody > tr {\n",
       "  text-align: right;\n",
       "  white-space: pre-wrap;\n",
       "}\n",
       "</style>\n",
       "<small>shape: (5, 5)</small><table border=\"1\" class=\"dataframe\"><thead><tr><th>title</th><th>org_name</th><th>org_link</th><th>date_posted</th><th>date_valid</th></tr><tr><td>str</td><td>str</td><td>str</td><td>date</td><td>date</td></tr></thead><tbody><tr><td>&quot;tmobile retail associate manag…</td><td>&quot;Arch Telecom&quot;</td><td>&quot;https://www.linkedin.com/compa…</td><td>2024-05-03</td><td>2024-06-02</td></tr><tr><td>&quot;assistant branch manager bilin…</td><td>&quot;Heights Finance Corporation&quot;</td><td>&quot;https://www.linkedin.com/compa…</td><td>2024-09-11</td><td>2024-10-11</td></tr><tr><td>&quot;forklift operator st shift&quot;</td><td>&quot;Mullican Flooring&quot;</td><td>&quot;https://www.linkedin.com/compa…</td><td>2024-07-01</td><td>2024-07-28</td></tr><tr><td>&quot;locum physician mddo internal …</td><td>&quot;LocumJobsOnline&quot;</td><td>&quot;https://www.linkedin.com/compa…</td><td>2025-02-02</td><td>2025-03-04</td></tr><tr><td>&quot;talent manager contract financ…</td><td>&quot;Robert Half Executive Search.&quot;</td><td>&quot;https://www.linkedin.com/compa…</td><td>2025-03-19</td><td>2025-04-18</td></tr></tbody></table></div>"
      ],
      "text/plain": [
       "shape: (5, 5)\n",
       "┌───────────────────────┬───────────────────────┬───────────────────────┬─────────────┬────────────┐\n",
       "│ title                 ┆ org_name              ┆ org_link              ┆ date_posted ┆ date_valid │\n",
       "│ ---                   ┆ ---                   ┆ ---                   ┆ ---         ┆ ---        │\n",
       "│ str                   ┆ str                   ┆ str                   ┆ date        ┆ date       │\n",
       "╞═══════════════════════╪═══════════════════════╪═══════════════════════╪═════════════╪════════════╡\n",
       "│ tmobile retail        ┆ Arch Telecom          ┆ https://www.linkedin. ┆ 2024-05-03  ┆ 2024-06-02 │\n",
       "│ associate manag…      ┆                       ┆ com/compa…            ┆             ┆            │\n",
       "│ assistant branch      ┆ Heights Finance       ┆ https://www.linkedin. ┆ 2024-09-11  ┆ 2024-10-11 │\n",
       "│ manager bilin…        ┆ Corporation           ┆ com/compa…            ┆             ┆            │\n",
       "│ forklift operator st  ┆ Mullican Flooring     ┆ https://www.linkedin. ┆ 2024-07-01  ┆ 2024-07-28 │\n",
       "│ shift                 ┆                       ┆ com/compa…            ┆             ┆            │\n",
       "│ locum physician mddo  ┆ LocumJobsOnline       ┆ https://www.linkedin. ┆ 2025-02-02  ┆ 2025-03-04 │\n",
       "│ internal …            ┆                       ┆ com/compa…            ┆             ┆            │\n",
       "│ talent manager        ┆ Robert Half Executive ┆ https://www.linkedin. ┆ 2025-03-19  ┆ 2025-04-18 │\n",
       "│ contract financ…      ┆ Search.               ┆ com/compa…            ┆             ┆            │\n",
       "└───────────────────────┴───────────────────────┴───────────────────────┴─────────────┴────────────┘"
      ]
     },
     "execution_count": 4,
     "metadata": {},
     "output_type": "execute_result"
    }
   ],
   "source": [
    "# convert date_posted and date_valid to datetime, format: 2024-10-22T10:29:32.000Z\n",
    "# clean up the title\n",
    "data = data.with_columns(\n",
    "    date_posted=pl.col('date_posted').str.strptime(pl.Datetime, format=\"%Y-%m-%dT%H:%M:%S.%fZ\", strict=False, ambiguous='null').dt.date(),\n",
    "    date_valid=pl.col('date_valid').str.strptime(pl.Datetime, format=\"%Y-%m-%dT%H:%M:%S.%fZ\", strict=False, ambiguous='null').dt.date(),\n",
    "    title=pl.col('title').str.to_lowercase().str.replace_all(r'[^a-zA-Z ]', '').str.replace_all(r'[\\s]+',' ').str.strip_chars(' '),\n",
    ")\n",
    "# drop na values and duplicates\n",
    "data = data.drop_nulls().unique(subset=['title', 'org_name', 'date_posted', 'date_valid'])\n",
    "print('Data shape:', data.shape)\n",
    "data.head()"
   ]
  },
  {
   "cell_type": "code",
   "execution_count": 5,
   "id": "5e47366c5c7cd666",
   "metadata": {
    "ExecuteTime": {
     "end_time": "2025-05-25T01:47:23.236310Z",
     "start_time": "2025-05-25T01:47:22.974394Z"
    }
   },
   "outputs": [
    {
     "data": {
      "text/html": [
       "<div><style>\n",
       ".dataframe > thead > tr,\n",
       ".dataframe > tbody > tr {\n",
       "  text-align: right;\n",
       "  white-space: pre-wrap;\n",
       "}\n",
       "</style>\n",
       "<small>shape: (6, 13)</small><table border=\"1\" class=\"dataframe\"><thead><tr><th>year</th><th>10</th><th>1</th><th>2</th><th>3</th><th>4</th><th>5</th><th>6</th><th>7</th><th>8</th><th>9</th><th>11</th><th>12</th></tr><tr><td>i32</td><td>u32</td><td>u32</td><td>u32</td><td>u32</td><td>u32</td><td>u32</td><td>u32</td><td>u32</td><td>u32</td><td>u32</td><td>u32</td><td>u32</td></tr></thead><tbody><tr><td>2020</td><td>8</td><td>null</td><td>null</td><td>null</td><td>null</td><td>null</td><td>null</td><td>null</td><td>null</td><td>null</td><td>null</td><td>null</td></tr><tr><td>2021</td><td>83</td><td>2</td><td>14</td><td>11</td><td>14</td><td>39</td><td>84</td><td>84</td><td>19</td><td>16</td><td>27</td><td>33</td></tr><tr><td>2022</td><td>134</td><td>31</td><td>27</td><td>34</td><td>35</td><td>375</td><td>52</td><td>51</td><td>224</td><td>187</td><td>118</td><td>196</td></tr><tr><td>2023</td><td>17303</td><td>263</td><td>460</td><td>9243</td><td>11086</td><td>12751</td><td>19343</td><td>22140</td><td>13941</td><td>13890</td><td>22703</td><td>41973</td></tr><tr><td>2024</td><td>1506238</td><td>54870</td><td>95306</td><td>168096</td><td>398400</td><td>1690043</td><td>1147579</td><td>1496382</td><td>2007163</td><td>1776077</td><td>1470437</td><td>1495242</td></tr><tr><td>2025</td><td>null</td><td>1474540</td><td>1530008</td><td>1853935</td><td>2189690</td><td>1485803</td><td>null</td><td>null</td><td>null</td><td>null</td><td>null</td><td>null</td></tr></tbody></table></div>"
      ],
      "text/plain": [
       "shape: (6, 13)\n",
       "┌──────┬─────────┬─────────┬─────────┬───┬─────────┬─────────┬─────────┬─────────┐\n",
       "│ year ┆ 10      ┆ 1       ┆ 2       ┆ … ┆ 8       ┆ 9       ┆ 11      ┆ 12      │\n",
       "│ ---  ┆ ---     ┆ ---     ┆ ---     ┆   ┆ ---     ┆ ---     ┆ ---     ┆ ---     │\n",
       "│ i32  ┆ u32     ┆ u32     ┆ u32     ┆   ┆ u32     ┆ u32     ┆ u32     ┆ u32     │\n",
       "╞══════╪═════════╪═════════╪═════════╪═══╪═════════╪═════════╪═════════╪═════════╡\n",
       "│ 2020 ┆ 8       ┆ null    ┆ null    ┆ … ┆ null    ┆ null    ┆ null    ┆ null    │\n",
       "│ 2021 ┆ 83      ┆ 2       ┆ 14      ┆ … ┆ 19      ┆ 16      ┆ 27      ┆ 33      │\n",
       "│ 2022 ┆ 134     ┆ 31      ┆ 27      ┆ … ┆ 224     ┆ 187     ┆ 118     ┆ 196     │\n",
       "│ 2023 ┆ 17303   ┆ 263     ┆ 460     ┆ … ┆ 13941   ┆ 13890   ┆ 22703   ┆ 41973   │\n",
       "│ 2024 ┆ 1506238 ┆ 54870   ┆ 95306   ┆ … ┆ 2007163 ┆ 1776077 ┆ 1470437 ┆ 1495242 │\n",
       "│ 2025 ┆ null    ┆ 1474540 ┆ 1530008 ┆ … ┆ null    ┆ null    ┆ null    ┆ null    │\n",
       "└──────┴─────────┴─────────┴─────────┴───┴─────────┴─────────┴─────────┴─────────┘"
      ]
     },
     "execution_count": 5,
     "metadata": {},
     "output_type": "execute_result"
    }
   ],
   "source": [
    "# group the data by year and month posted\n",
    "data.with_columns(\n",
    "    year=pl.col('date_posted').dt.year(),\n",
    "    month=pl.col('date_posted').dt.month(),\n",
    ") \\\n",
    "    .group_by(['year', 'month']) \\\n",
    "    .len() \\\n",
    "    .sort(['year', 'month']) \\\n",
    "    .pivot(\n",
    "        index='year',\n",
    "        on='month',\n",
    "        values='len',\n",
    "    )"
   ]
  },
  {
   "cell_type": "markdown",
   "id": "a5246182fc2853ae",
   "metadata": {},
   "source": [
    "Let's plot the number of job post weekly from 2024-01-01"
   ]
  },
  {
   "cell_type": "code",
   "execution_count": 6,
   "id": "801ce2ab60b6b6cb",
   "metadata": {
    "ExecuteTime": {
     "end_time": "2025-05-25T01:54:29.085091Z",
     "start_time": "2025-05-25T01:54:08.140646Z"
    }
   },
   "outputs": [
    {
     "data": {
      "text/html": [
       "   <div id=\"oZuPBE\"></div>\n",
       "   <script type=\"text/javascript\" data-lets-plot-script=\"plot\">\n",
       "   \n",
       "   (function() {\n",
       "   // ----------\n",
       "   \n",
       "   const forceImmediateRender = false;\n",
       "   const responsive = false;\n",
       "   \n",
       "   let sizing = {\n",
       "       width_mode: \"MIN\",\n",
       "       height_mode: \"SCALED\",\n",
       "       width: null, \n",
       "       height: null \n",
       "   };\n",
       "   \n",
       "   const preferredWidth = document.body.dataset.letsPlotPreferredWidth;\n",
       "   if (preferredWidth !== undefined) {\n",
       "       sizing = {\n",
       "           width_mode: 'FIXED',\n",
       "           height_mode: 'SCALED',\n",
       "           width: parseFloat(preferredWidth)\n",
       "       };\n",
       "   }\n",
       "   \n",
       "   const containerDiv = document.getElementById(\"oZuPBE\");\n",
       "   let fig = null;\n",
       "   \n",
       "   function renderPlot() {\n",
       "       if (fig === null) {\n",
       "           const plotSpec = {\n",
       "\"data\":{\n",
       "},\n",
       "\"mapping\":{\n",
       "\"x\":\"epoch\"\n",
       "},\n",
       "\"data_meta\":{\n",
       "\"series_annotations\":[{\n",
       "\"type\":\"int\",\n",
       "\"column\":\"epoch\"\n",
       "}]\n",
       "},\n",
       "\"ggtitle\":{\n",
       "\"text\":\"Jobs posted weekly from 2024-01-01\"\n",
       "},\n",
       "\"guides\":{\n",
       "\"x\":{\n",
       "\"title\":\"Date\"\n",
       "},\n",
       "\"y\":{\n",
       "\"title\":\"Number of jobs\"\n",
       "}\n",
       "},\n",
       "\"ggsize\":{\n",
       "\"width\":1200.0,\n",
       "\"height\":400.0\n",
       "},\n",
       "\"kind\":\"plot\",\n",
       "\"scales\":[{\n",
       "\"aesthetic\":\"x\",\n",
       "\"breaks\":[1.7040672E9,1.7067456E9,1.7092512E9,1.7119296E9,1.7145216E9,1.7172E9,1.719792E9,1.7224704E9,1.7251488E9,1.7277408E9,1.7304192E9,1.7330112E9,1.7356896E9,1.738368E9,1.7407872E9,1.7434656E9,1.7460576E9,1.748736E9],\n",
       "\"labels\":[\"2024-01\",\"2024-02\",\"2024-03\",\"2024-04\",\"2024-05\",\"2024-06\",\"2024-07\",\"2024-08\",\"2024-09\",\"2024-10\",\"2024-11\",\"2024-12\",\"2025-01\",\"2025-02\",\"2025-03\",\"2025-04\",\"2025-05\",\"2025-06\"],\n",
       "\"limits\":[1.7040888E9,1.748754E9]\n",
       "}],\n",
       "\"layers\":[{\n",
       "\"geom\":\"histogram\",\n",
       "\"mapping\":{\n",
       "},\n",
       "\"data_meta\":{\n",
       "},\n",
       "\"binwidth\":604800.0,\n",
       "\"fill\":\"blue\",\n",
       "\"color\":\"black\",\n",
       "\"alpha\":0.5,\n",
       "\"data\":{\n",
       "\"..count..\":[3691.0,11786.0,12316.0,13586.0,12926.0,29405.0,17439.0,19837.0,24071.0,29684.0,35336.0,43344.0,42407.0,51684.0,81721.0,69640.0,106811.0,138134.0,212891.0,278966.0,593253.0,437739.0,376731.0,200018.0,301359.0,281571.0,279012.0,241639.0,332817.0,350742.0,419555.0,480153.0,445960.0,442797.0,432023.0,430446.0,508965.0,476537.0,381562.0,272544.0,223632.0,288465.0,462044.0,376708.0,376207.0,387446.0,370209.0,343462.0,270278.0,373908.0,459581.0,288558.0,193983.0,424097.0,325229.0,255167.0,292078.0,461747.0,448851.0,361532.0,272549.0,403325.0,502860.0,425170.0,393541.0,488801.0,499424.0,559131.0,468943.0,435417.0,491156.0,461191.0,397769.0,135687.0,0.0,0.0],\n",
       "\"epoch\":[1.70396784E9,1.70457264E9,1.70517744E9,1.70578224E9,1.70638704E9,1.70699184E9,1.70759664E9,1.70820144E9,1.70880624E9,1.70941104E9,1.71001584E9,1.71062064E9,1.71122544E9,1.71183024E9,1.71243504E9,1.71303984E9,1.71364464E9,1.71424944E9,1.71485424E9,1.71545904E9,1.71606384E9,1.71666864E9,1.71727344E9,1.71787824E9,1.71848304E9,1.71908784E9,1.71969264E9,1.72029744E9,1.72090224E9,1.72150704E9,1.72211184E9,1.72271664E9,1.72332144E9,1.72392624E9,1.72453104E9,1.72513584E9,1.72574064E9,1.72634544E9,1.72695024E9,1.72755504E9,1.72815984E9,1.72876464E9,1.72936944E9,1.72997424E9,1.73057904E9,1.73118384E9,1.73178864E9,1.73239344E9,1.73299824E9,1.73360304E9,1.73420784E9,1.73481264E9,1.73541744E9,1.73602224E9,1.73662704E9,1.73723184E9,1.73783664E9,1.73844144E9,1.73904624E9,1.73965104E9,1.74025584E9,1.74086064E9,1.74146544E9,1.74207024E9,1.74267504E9,1.74327984E9,1.74388464E9,1.74448944E9,1.74509424E9,1.74569904E9,1.74630384E9,1.74690864E9,1.74751344E9,1.74811824E9,1.74872304E9,1.74932784E9]\n",
       "}\n",
       "}],\n",
       "\"metainfo_list\":[],\n",
       "\"spec_id\":\"1\"\n",
       "};\n",
       "           window.letsPlotCall(function() { fig = LetsPlot.buildPlotFromProcessedSpecs(plotSpec, containerDiv, sizing); });\n",
       "       } else {\n",
       "           fig.updateView({});\n",
       "       }\n",
       "   }\n",
       "   \n",
       "   const renderImmediately = \n",
       "       forceImmediateRender || (\n",
       "           sizing.width_mode === 'FIXED' && \n",
       "           (sizing.height_mode === 'FIXED' || sizing.height_mode === 'SCALED')\n",
       "       );\n",
       "   \n",
       "   if (renderImmediately) {\n",
       "       renderPlot();\n",
       "   }\n",
       "   \n",
       "   if (!renderImmediately || responsive) {\n",
       "       // Set up observer for initial sizing or continuous monitoring\n",
       "       var observer = new ResizeObserver(function(entries) {\n",
       "           for (let entry of entries) {\n",
       "               if (entry.contentBoxSize && \n",
       "                   entry.contentBoxSize[0].inlineSize > 0) {\n",
       "                   if (!responsive && observer) {\n",
       "                       observer.disconnect();\n",
       "                       observer = null;\n",
       "                   }\n",
       "                   renderPlot();\n",
       "                   if (!responsive) {\n",
       "                       break;\n",
       "                   }\n",
       "               }\n",
       "           }\n",
       "       });\n",
       "       \n",
       "       observer.observe(containerDiv);\n",
       "   }\n",
       "   \n",
       "   // ----------\n",
       "   })();\n",
       "   \n",
       "   </script>"
      ],
      "text/plain": [
       "<lets_plot.plot.core.PlotSpec at 0x10851a8d0>"
      ]
     },
     "execution_count": 6,
     "metadata": {},
     "output_type": "execute_result"
    }
   ],
   "source": [
    "from datetime import date, datetime\n",
    "# plot number of jobs weekly\n",
    "(ggplot(\n",
    "    {\n",
    "        'epoch': data['date_posted'].dt.epoch(time_unit='s').to_list(),\n",
    "    },\n",
    "    aes(x='epoch')\n",
    ") + geom_histogram(\n",
    "    binwidth=86400 * 7, # interval of 1 week\n",
    "    fill='blue',\n",
    "    color='black',\n",
    "    alpha=0.5,\n",
    ") + labs(\n",
    "    title='Jobs posted weekly from 2024-01-01',\n",
    "    x='Date',\n",
    "    y='Number of jobs',\n",
    ") + scale_x_continuous(\n",
    "        breaks=pl.date_range(date(2024, 1, 1), date(2025, 6, 1), \"1mo\", eager=True).dt.epoch(time_unit='s').to_list(),\n",
    "        labels=pl.date_range(date(2024, 1, 1), date(2025, 6, 1), \"1mo\", eager=True).dt.strftime('%Y-%m').to_list(),\n",
    "        limits=[\n",
    "            datetime(2024, 1, 1).timestamp(),\n",
    "            datetime(2025, 6, 1).timestamp()\n",
    "        ]\n",
    ") + ggsize(1200, 400))"
   ]
  },
  {
   "cell_type": "markdown",
   "id": "f03b233fdb7e3fbc",
   "metadata": {},
   "source": [
    "Our data is very likely not complete before 2024-05-01"
   ]
  },
  {
   "cell_type": "code",
   "execution_count": 7,
   "id": "54a0509a3357097b",
   "metadata": {
    "ExecuteTime": {
     "end_time": "2025-05-25T01:57:38.393371Z",
     "start_time": "2025-05-25T01:57:18.849292Z"
    }
   },
   "outputs": [
    {
     "data": {
      "text/html": [
       "<div><style>\n",
       ".dataframe > thead > tr,\n",
       ".dataframe > tbody > tr {\n",
       "  text-align: right;\n",
       "  white-space: pre-wrap;\n",
       "}\n",
       "</style>\n",
       "<small>shape: (5, 3)</small><table border=\"1\" class=\"dataframe\"><thead><tr><th>title</th><th>org_link</th><th>is_fake</th></tr><tr><td>str</td><td>str</td><td>i32</td></tr></thead><tbody><tr><td>&quot;class a cdl driver&quot;</td><td>&quot;https://www.linkedin.com/compa…</td><td>1</td></tr><tr><td>&quot;lake ranger&quot;</td><td>&quot;https://www.linkedin.com/compa…</td><td>1</td></tr><tr><td>&quot;distinguished engineer risk ma…</td><td>&quot;https://www.linkedin.com/compa…</td><td>1</td></tr><tr><td>&quot;business development represent…</td><td>&quot;https://www.linkedin.com/compa…</td><td>1</td></tr><tr><td>&quot;travel licensed clinical socia…</td><td>&quot;https://www.linkedin.com/compa…</td><td>1</td></tr></tbody></table></div>"
      ],
      "text/plain": [
       "shape: (5, 3)\n",
       "┌─────────────────────────────────┬─────────────────────────────────┬─────────┐\n",
       "│ title                           ┆ org_link                        ┆ is_fake │\n",
       "│ ---                             ┆ ---                             ┆ ---     │\n",
       "│ str                             ┆ str                             ┆ i32     │\n",
       "╞═════════════════════════════════╪═════════════════════════════════╪═════════╡\n",
       "│ class a cdl driver              ┆ https://www.linkedin.com/compa… ┆ 1       │\n",
       "│ lake ranger                     ┆ https://www.linkedin.com/compa… ┆ 1       │\n",
       "│ distinguished engineer risk ma… ┆ https://www.linkedin.com/compa… ┆ 1       │\n",
       "│ business development represent… ┆ https://www.linkedin.com/compa… ┆ 1       │\n",
       "│ travel licensed clinical socia… ┆ https://www.linkedin.com/compa… ┆ 1       │\n",
       "└─────────────────────────────────┴─────────────────────────────────┴─────────┘"
      ]
     },
     "execution_count": 7,
     "metadata": {},
     "output_type": "execute_result"
    }
   ],
   "source": [
    "# if within 6 months, there are 3 or more jobs posted with the same title, org_name, then consider it as a fake job\n",
    "# loop through the data with a sliding window of 6 months\n",
    "\n",
    "date_range = pl.date_range(\n",
    "    data['date_posted'].min(),\n",
    "    data['date_posted'].max(),\n",
    "    interval='1w',\n",
    "    eager=True,\n",
    ").to_list()\n",
    "\n",
    "fake_jobs = []\n",
    "\n",
    "for d in date_range:\n",
    "    fakes = data.filter(\n",
    "        (pl.col('date_posted') >= d) & (pl.col('date_posted') <= d + pl.duration(days=180))\n",
    "    )\\\n",
    "        .group_by(['title', 'org_link']) \\\n",
    "        .len() \\\n",
    "        .filter(pl.col('len') >= 3) \\\n",
    "        .select(['title', 'org_link'])\n",
    "    fake_jobs.append(fakes)\n",
    "\n",
    "fake_jobs = pl.concat(fake_jobs).unique(subset=['title', 'org_link']).\\\n",
    "    with_columns(\n",
    "        is_fake=pl.lit(1),\n",
    "    )\n",
    "fake_jobs.head()"
   ]
  },
  {
   "cell_type": "code",
   "execution_count": 8,
   "id": "32610be3da7ca905",
   "metadata": {
    "ExecuteTime": {
     "end_time": "2025-05-25T02:06:30.726262Z",
     "start_time": "2025-05-25T02:06:29.872878Z"
    }
   },
   "outputs": [
    {
     "name": "stdout",
     "output_type": "stream",
     "text": [
      "Percentage of fake jobs: 42.08978997769129\n"
     ]
    }
   ],
   "source": [
    "# percentage of fake jobs from 2024-05-01\n",
    "df = data\\\n",
    "    .filter((pl.col('date_posted') >= datetime(2024, 5, 1))) \\\n",
    "    .join(fake_jobs, on=['title', 'org_link'], how='left')\\\n",
    "    .group_by(['is_fake']) \\\n",
    "    .len().with_columns(\n",
    "        is_fake = pl.col('is_fake').fill_null(0),\n",
    "    )\n",
    "perc = df.filter(pl.col('is_fake') == 1).select(pl.col('len')).to_numpy()[0][0] / df['len'].sum() * 100\n",
    "print('Percentage of fake jobs:', perc)"
   ]
  },
  {
   "cell_type": "code",
   "execution_count": 9,
   "id": "7f0a1b9e1fd6277e",
   "metadata": {
    "ExecuteTime": {
     "end_time": "2025-05-25T02:06:32.090469Z",
     "start_time": "2025-05-25T02:06:31.235734Z"
    }
   },
   "outputs": [
    {
     "name": "stdout",
     "output_type": "stream",
     "text": [
      "Percentage of companies with fake jobs: 17.81409458899046\n"
     ]
    }
   ],
   "source": [
    "# percentage of companies with fake jobs from 2024-05-01\n",
    "df = data\\\n",
    "    .filter((pl.col('date_posted') >= datetime(2024, 5, 1))) \\\n",
    "    .join(fake_jobs, on=['title', 'org_link'], how='left')\\\n",
    "    .with_columns(\n",
    "        is_fake=pl.col('is_fake').fill_null(0),\n",
    "    ) \\\n",
    "    .group_by(['org_link']) \\\n",
    "    .agg([\n",
    "        pl.col('is_fake').sum().alias('is_fake'),\n",
    "    ])\n",
    "perc = df.filter(pl.col('is_fake') > 0).shape[0] / df.shape[0] * 100\n",
    "print('Percentage of companies with fake jobs:', perc)"
   ]
  },
  {
   "cell_type": "code",
   "execution_count": 10,
   "id": "9bc1382671003d12",
   "metadata": {
    "ExecuteTime": {
     "end_time": "2025-05-25T02:46:08.861038Z",
     "start_time": "2025-05-25T02:45:07.961834Z"
    }
   },
   "outputs": [
    {
     "data": {
      "text/html": [
       "   <div id=\"cDdsFw\"></div>\n",
       "   <script type=\"text/javascript\" data-lets-plot-script=\"plot\">\n",
       "   \n",
       "   (function() {\n",
       "   // ----------\n",
       "   \n",
       "   const forceImmediateRender = false;\n",
       "   const responsive = false;\n",
       "   \n",
       "   let sizing = {\n",
       "       width_mode: \"MIN\",\n",
       "       height_mode: \"SCALED\",\n",
       "       width: null, \n",
       "       height: null \n",
       "   };\n",
       "   \n",
       "   const preferredWidth = document.body.dataset.letsPlotPreferredWidth;\n",
       "   if (preferredWidth !== undefined) {\n",
       "       sizing = {\n",
       "           width_mode: 'FIXED',\n",
       "           height_mode: 'SCALED',\n",
       "           width: parseFloat(preferredWidth)\n",
       "       };\n",
       "   }\n",
       "   \n",
       "   const containerDiv = document.getElementById(\"cDdsFw\");\n",
       "   let fig = null;\n",
       "   \n",
       "   function renderPlot() {\n",
       "       if (fig === null) {\n",
       "           const plotSpec = {\n",
       "\"mapping\":{\n",
       "},\n",
       "\"data_meta\":{\n",
       "},\n",
       "\"ggtitle\":{\n",
       "\"text\":\"Jobs posted weekly from 2024-01-01\"\n",
       "},\n",
       "\"guides\":{\n",
       "\"x\":{\n",
       "\"title\":\"Date\"\n",
       "},\n",
       "\"y\":{\n",
       "\"title\":\"Number of jobs\"\n",
       "}\n",
       "},\n",
       "\"theme\":{\n",
       "\"legend_position\":\"right\",\n",
       "\"legend_box\":\"vertical\"\n",
       "},\n",
       "\"ggsize\":{\n",
       "\"width\":800.0,\n",
       "\"height\":600.0\n",
       "},\n",
       "\"kind\":\"plot\",\n",
       "\"scales\":[{\n",
       "\"aesthetic\":\"x\",\n",
       "\"breaks\":[1.7040672E9,1.7067456E9,1.7092512E9,1.7119296E9,1.7145216E9,1.7172E9,1.719792E9,1.7224704E9,1.7251488E9,1.7277408E9,1.7304192E9,1.7330112E9,1.7356896E9,1.738368E9,1.7407872E9,1.7434656E9,1.7460576E9,1.748736E9],\n",
       "\"labels\":[\"2024-01\",\"2024-02\",\"2024-03\",\"2024-04\",\"2024-05\",\"2024-06\",\"2024-07\",\"2024-08\",\"2024-09\",\"2024-10\",\"2024-11\",\"2024-12\",\"2025-01\",\"2025-02\",\"2025-03\",\"2025-04\",\"2025-05\",\"2025-06\"],\n",
       "\"limits\":[1.7145396E9,1.748754E9]\n",
       "},{\n",
       "\"name\":\"Jobs\",\n",
       "\"aesthetic\":\"fill\",\n",
       "\"breaks\":[\"all\",\"fake\"],\n",
       "\"labels\":[\"Real\",\"Fake\"],\n",
       "\"values\":[\"#165baa\",\"#a155b9\"]\n",
       "}],\n",
       "\"layers\":[{\n",
       "\"geom\":\"histogram\",\n",
       "\"data\":{\n",
       "\"..count..\":[60162.0,241507.0,307729.0,673005.0,379929.0,313506.0,243823.0,286109.0,263995.0,247015.0,306166.0,331027.0,369560.0,463342.0,450420.0,447731.0,460818.0,425199.0,448881.0,495641.0,457465.0,336282.0,244129.0,241871.0,336514.0,461343.0,369471.0,377458.0,382787.0,370338.0,257170.0,368697.0,393433.0,443051.0,202644.0,264128.0,397011.0,350974.0,222400.0,343259.0,476963.0,438410.0,289671.0,324964.0,455286.0,466790.0,419109.0,394188.0,523452.0,523902.0,518554.0,456499.0,468412.0,472892.0,440441.0,367483.0,22420.0,0.0],\n",
       "\"epoch\":[1.71441864E9,1.71502344E9,1.71562824E9,1.71623304E9,1.71683784E9,1.71744264E9,1.71804744E9,1.71865224E9,1.71925704E9,1.71986184E9,1.72046664E9,1.72107144E9,1.72167624E9,1.72228104E9,1.72288584E9,1.72349064E9,1.72409544E9,1.72470024E9,1.72530504E9,1.72590984E9,1.72651464E9,1.72711944E9,1.72772424E9,1.72832904E9,1.72893384E9,1.72953864E9,1.73014344E9,1.73074824E9,1.73135304E9,1.73195784E9,1.73256264E9,1.73316744E9,1.73377224E9,1.73437704E9,1.73498184E9,1.73558664E9,1.73619144E9,1.73679624E9,1.73740104E9,1.73800584E9,1.73861064E9,1.73921544E9,1.73982024E9,1.74042504E9,1.74102984E9,1.74163464E9,1.74223944E9,1.74284424E9,1.74344904E9,1.74405384E9,1.74465864E9,1.74526344E9,1.74586824E9,1.74647304E9,1.74707784E9,1.74768264E9,1.74828744E9,1.74889224E9],\n",
       "\"fill\":[\"all\",\"all\",\"all\",\"all\",\"all\",\"all\",\"all\",\"all\",\"all\",\"all\",\"all\",\"all\",\"all\",\"all\",\"all\",\"all\",\"all\",\"all\",\"all\",\"all\",\"all\",\"all\",\"all\",\"all\",\"all\",\"all\",\"all\",\"all\",\"all\",\"all\",\"all\",\"all\",\"all\",\"all\",\"all\",\"all\",\"all\",\"all\",\"all\",\"all\",\"all\",\"all\",\"all\",\"all\",\"all\",\"all\",\"all\",\"all\",\"all\",\"all\",\"all\",\"all\",\"all\",\"all\",\"all\",\"all\",\"all\",\"all\"]\n",
       "},\n",
       "\"mapping\":{\n",
       "\"x\":\"epoch\",\n",
       "\"fill\":\"fill\"\n",
       "},\n",
       "\"data_meta\":{\n",
       "\"series_annotations\":[{\n",
       "\"type\":\"int\",\n",
       "\"column\":\"epoch\"\n",
       "},{\n",
       "\"type\":\"str\",\n",
       "\"column\":\"fill\"\n",
       "}]\n",
       "},\n",
       "\"binwidth\":604800.0\n",
       "},{\n",
       "\"geom\":\"histogram\",\n",
       "\"data\":{\n",
       "\"..count..\":[20128.0,76849.0,112798.0,237825.0,153227.0,128361.0,85956.0,127434.0,113260.0,106983.0,133230.0,135397.0,151541.0,200581.0,200966.0,205829.0,208046.0,191050.0,207492.0,228179.0,214097.0,151313.0,103625.0,100811.0,141759.0,212480.0,170418.0,155910.0,153756.0,168914.0,112388.0,160839.0,177411.0,207384.0,99466.0,130356.0,181709.0,146578.0,89859.0,134331.0,195099.0,178126.0,116704.0,124005.0,182431.0,202619.0,168656.0,156510.0,228975.0,216825.0,212145.0,179996.0,181162.0,184530.0,169117.0,136992.0,9160.0,0.0],\n",
       "\"epoch\":[1.71441864E9,1.71502344E9,1.71562824E9,1.71623304E9,1.71683784E9,1.71744264E9,1.71804744E9,1.71865224E9,1.71925704E9,1.71986184E9,1.72046664E9,1.72107144E9,1.72167624E9,1.72228104E9,1.72288584E9,1.72349064E9,1.72409544E9,1.72470024E9,1.72530504E9,1.72590984E9,1.72651464E9,1.72711944E9,1.72772424E9,1.72832904E9,1.72893384E9,1.72953864E9,1.73014344E9,1.73074824E9,1.73135304E9,1.73195784E9,1.73256264E9,1.73316744E9,1.73377224E9,1.73437704E9,1.73498184E9,1.73558664E9,1.73619144E9,1.73679624E9,1.73740104E9,1.73800584E9,1.73861064E9,1.73921544E9,1.73982024E9,1.74042504E9,1.74102984E9,1.74163464E9,1.74223944E9,1.74284424E9,1.74344904E9,1.74405384E9,1.74465864E9,1.74526344E9,1.74586824E9,1.74647304E9,1.74707784E9,1.74768264E9,1.74828744E9,1.74889224E9],\n",
       "\"fill\":[\"fake\",\"fake\",\"fake\",\"fake\",\"fake\",\"fake\",\"fake\",\"fake\",\"fake\",\"fake\",\"fake\",\"fake\",\"fake\",\"fake\",\"fake\",\"fake\",\"fake\",\"fake\",\"fake\",\"fake\",\"fake\",\"fake\",\"fake\",\"fake\",\"fake\",\"fake\",\"fake\",\"fake\",\"fake\",\"fake\",\"fake\",\"fake\",\"fake\",\"fake\",\"fake\",\"fake\",\"fake\",\"fake\",\"fake\",\"fake\",\"fake\",\"fake\",\"fake\",\"fake\",\"fake\",\"fake\",\"fake\",\"fake\",\"fake\",\"fake\",\"fake\",\"fake\",\"fake\",\"fake\",\"fake\",\"fake\",\"fake\",\"fake\"]\n",
       "},\n",
       "\"mapping\":{\n",
       "\"x\":\"epoch\",\n",
       "\"fill\":\"fill\"\n",
       "},\n",
       "\"data_meta\":{\n",
       "\"series_annotations\":[{\n",
       "\"type\":\"int\",\n",
       "\"column\":\"epoch\"\n",
       "},{\n",
       "\"type\":\"str\",\n",
       "\"column\":\"fill\"\n",
       "}]\n",
       "},\n",
       "\"binwidth\":604800.0\n",
       "}],\n",
       "\"metainfo_list\":[],\n",
       "\"spec_id\":\"2\"\n",
       "};\n",
       "           window.letsPlotCall(function() { fig = LetsPlot.buildPlotFromProcessedSpecs(plotSpec, containerDiv, sizing); });\n",
       "       } else {\n",
       "           fig.updateView({});\n",
       "       }\n",
       "   }\n",
       "   \n",
       "   const renderImmediately = \n",
       "       forceImmediateRender || (\n",
       "           sizing.width_mode === 'FIXED' && \n",
       "           (sizing.height_mode === 'FIXED' || sizing.height_mode === 'SCALED')\n",
       "       );\n",
       "   \n",
       "   if (renderImmediately) {\n",
       "       renderPlot();\n",
       "   }\n",
       "   \n",
       "   if (!renderImmediately || responsive) {\n",
       "       // Set up observer for initial sizing or continuous monitoring\n",
       "       var observer = new ResizeObserver(function(entries) {\n",
       "           for (let entry of entries) {\n",
       "               if (entry.contentBoxSize && \n",
       "                   entry.contentBoxSize[0].inlineSize > 0) {\n",
       "                   if (!responsive && observer) {\n",
       "                       observer.disconnect();\n",
       "                       observer = null;\n",
       "                   }\n",
       "                   renderPlot();\n",
       "                   if (!responsive) {\n",
       "                       break;\n",
       "                   }\n",
       "               }\n",
       "           }\n",
       "       });\n",
       "       \n",
       "       observer.observe(containerDiv);\n",
       "   }\n",
       "   \n",
       "   // ----------\n",
       "   })();\n",
       "   \n",
       "   </script>"
      ],
      "text/plain": [
       "<lets_plot.plot.core.PlotSpec at 0x108db9e20>"
      ]
     },
     "execution_count": 10,
     "metadata": {},
     "output_type": "execute_result"
    }
   ],
   "source": [
    "import numpy as np\n",
    "# plot in histogram\n",
    "df = data\\\n",
    "    .filter((pl.col('date_posted') >= datetime(2024, 5, 1))) \\\n",
    "    .join(fake_jobs, on=['title', 'org_link'], how='left')\\\n",
    "    .with_columns(\n",
    "        is_fake=pl.col('is_fake').fill_null(0),\n",
    "    )\n",
    "\n",
    "(ggplot() + geom_histogram(\n",
    "    data= {\n",
    "        'epoch': df['date_posted'].dt.epoch(time_unit='s').to_list(),\n",
    "        'fill': np.full(len(df), 'all'),\n",
    "    },\n",
    "    mapping = aes(x='epoch', fill='fill'),\n",
    "    binwidth=86400 * 7, # interval of 1 week\n",
    ") + geom_histogram(\n",
    "    data={\n",
    "        'epoch': df.filter(pl.col('is_fake') == 1)['date_posted'].dt.epoch(time_unit='s').to_list(),\n",
    "        'fill': np.full(len(df.filter(pl.col('is_fake') == 1)), 'fake'),\n",
    "    },\n",
    "    mapping = aes(x='epoch', fill='fill'),\n",
    "    binwidth=86400 * 7, # interval of 1 week\n",
    ") + labs(\n",
    "    title='Jobs posted weekly from 2024-01-01',\n",
    "    x='Date',\n",
    "    y='Number of jobs',\n",
    ") + scale_x_continuous(\n",
    "    breaks=pl.date_range(date(2024, 1, 1), date(2025, 6, 1), \"1mo\", eager=True).dt.epoch(time_unit='s').to_list(),\n",
    "    labels=pl.date_range(date(2024, 1, 1), date(2025, 6, 1), \"1mo\", eager=True).dt.strftime('%Y-%m').to_list(),\n",
    "    limits=[\n",
    "        datetime(2024, 5, 1).timestamp(),\n",
    "        datetime(2025, 6, 1).timestamp()\n",
    "    ]\n",
    ") + scale_fill_manual(\n",
    "    name='Jobs',\n",
    "    values={\n",
    "        'all': '#165baa',\n",
    "        'fake': '#a155b9',\n",
    "    },\n",
    "    labels=['Real', 'Fake'],\n",
    ") + theme(\n",
    "    legend_position='right',\n",
    "    legend_box='vertical',\n",
    ") + ggsize(800, 600))"
   ]
  },
  {
   "cell_type": "code",
   "execution_count": null,
   "id": "d7f8e027ba88c4a4",
   "metadata": {},
   "outputs": [],
   "source": []
  }
 ],
 "metadata": {
  "kernelspec": {
   "display_name": "Python 3 (ipykernel)",
   "language": "python",
   "name": "python3"
  },
  "language_info": {
   "codemirror_mode": {
    "name": "ipython",
    "version": 3
   },
   "file_extension": ".py",
   "mimetype": "text/x-python",
   "name": "python",
   "nbconvert_exporter": "python",
   "pygments_lexer": "ipython3",
   "version": "3.12.9"
  }
 },
 "nbformat": 4,
 "nbformat_minor": 5
}
